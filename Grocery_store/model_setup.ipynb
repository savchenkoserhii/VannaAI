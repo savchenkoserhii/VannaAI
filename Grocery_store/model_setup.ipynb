{
 "cells": [
  {
   "cell_type": "code",
   "id": "initial_id",
   "metadata": {
    "collapsed": true,
    "ExecuteTime": {
     "end_time": "2025-03-20T17:53:30.310379Z",
     "start_time": "2025-03-20T17:53:28.291900Z"
    }
   },
   "source": [
    "import vanna as vn\n",
    "from vanna.remote import VannaDefault"
   ],
   "outputs": [],
   "execution_count": 1
  },
  {
   "metadata": {},
   "cell_type": "markdown",
   "source": "Vanna credentials",
   "id": "b6ef7824e4df1fa1"
  },
  {
   "metadata": {
    "ExecuteTime": {
     "end_time": "2025-03-20T17:53:30.327162Z",
     "start_time": "2025-03-20T17:53:30.319957Z"
    }
   },
   "cell_type": "code",
   "source": [
    "api_key = \"API-KEY\"\n",
    "vanna_model_name = 'RAG model'"
   ],
   "id": "8bf08515a74e1241",
   "outputs": [],
   "execution_count": 2
  },
  {
   "metadata": {},
   "cell_type": "markdown",
   "source": "OpenAI credentials",
   "id": "385581ac3fc89de7"
  },
  {
   "metadata": {
    "ExecuteTime": {
     "end_time": "2025-03-20T17:53:30.784124Z",
     "start_time": "2025-03-20T17:53:30.776407Z"
    }
   },
   "cell_type": "code",
   "source": [
    "openai_key = 'AI-KEY'\n",
    "openai_model = 'gpt-4o-mini'\n",
    "openai_config = {'api_key': openai_key, 'model': openai_model}"
   ],
   "id": "d62367c49495b999",
   "outputs": [],
   "execution_count": 3
  },
  {
   "metadata": {},
   "cell_type": "markdown",
   "source": "Configure Vanna model",
   "id": "98be98173899598b"
  },
  {
   "metadata": {
    "ExecuteTime": {
     "end_time": "2025-03-20T17:53:32.786821Z",
     "start_time": "2025-03-20T17:53:30.817609Z"
    }
   },
   "cell_type": "code",
   "source": [
    "from VannaOpenAI import VannaOpenAI\n",
    "\n",
    "vn = VannaOpenAI(vanna_model=vanna_model_name, vanna_api_key=api_key, config=openai_config)"
   ],
   "id": "9719967655982afe",
   "outputs": [],
   "execution_count": 4
  },
  {
   "metadata": {},
   "cell_type": "markdown",
   "source": "Connect Vanna to PostgresDB (localhost)",
   "id": "1fe68ac171d63b1b"
  },
  {
   "metadata": {
    "ExecuteTime": {
     "end_time": "2025-03-20T17:53:32.922080Z",
     "start_time": "2025-03-20T17:53:32.803526Z"
    }
   },
   "cell_type": "code",
   "source": "vn.connect_to_postgres(host='host', dbname='dbname', user='user', password='pass', port='5432')",
   "id": "8a1609a15bc571ed",
   "outputs": [],
   "execution_count": 5
  },
  {
   "metadata": {},
   "cell_type": "markdown",
   "source": "Training with a generic plan",
   "id": "387461f1e5379dd6"
  },
  {
   "metadata": {
    "ExecuteTime": {
     "end_time": "2025-03-20T17:53:33.709698Z",
     "start_time": "2025-03-20T17:53:32.940368Z"
    }
   },
   "cell_type": "code",
   "source": [
    "ddl_information = \"\"\"\n",
    "create table grocery_inventory_and_sales_dataset\n",
    "(\n",
    "    product_id              varchar,\n",
    "    product_name            varchar,\n",
    "    catagory                varchar,\n",
    "    supplier_id             varchar,\n",
    "    supplier_name           varchar,\n",
    "    stock_quantity          double precision,\n",
    "    reorder_level           double precision,\n",
    "    reorder_quantity        double precision,\n",
    "    unit_price              varchar,\n",
    "    date_received           date,\n",
    "    last_order_date         date,\n",
    "    expiration_date         date,\n",
    "    warehouse_location      varchar,\n",
    "    sales_volume            double precision,\n",
    "    inventory_turnover_rate double precision,\n",
    "    status                  varchar\n",
    ");\n",
    "\n",
    "alter table grocery_inventory_and_sales_dataset\n",
    "    owner to postgres;\n",
    "\"\"\"\n",
    "vn.train(ddl=ddl_information)"
   ],
   "id": "f25f0a3e521044f9",
   "outputs": [
    {
     "name": "stdout",
     "output_type": "stream",
     "text": [
      "Adding ddl: \n",
      "create table grocery_inventory_and_sales_dataset\n",
      "(\n",
      "    product_id              varchar,\n",
      "    product_name            varchar,\n",
      "    catagory                varchar,\n",
      "    supplier_id             varchar,\n",
      "    supplier_name           varchar,\n",
      "    stock_quantity          double precision,\n",
      "    reorder_level           double precision,\n",
      "    reorder_quantity        double precision,\n",
      "    unit_price              varchar,\n",
      "    date_received           date,\n",
      "    last_order_date         date,\n",
      "    expiration_date         date,\n",
      "    warehouse_location      varchar,\n",
      "    sales_volume            double precision,\n",
      "    inventory_turnover_rate double precision,\n",
      "    status                  varchar\n",
      ");\n",
      "\n",
      "alter table grocery_inventory_and_sales_dataset\n",
      "    owner to postgres;\n",
      "\n"
     ]
    },
    {
     "data": {
      "text/plain": [
       "'3496544-ddl'"
      ]
     },
     "execution_count": 6,
     "metadata": {},
     "output_type": "execute_result"
    }
   ],
   "execution_count": 6
  },
  {
   "metadata": {
    "ExecuteTime": {
     "end_time": "2025-03-20T17:53:33.791026Z",
     "start_time": "2025-03-20T17:53:33.777978Z"
    }
   },
   "cell_type": "code",
   "source": [
    "train_sample = [\n",
    "    {\n",
    "        'question': \"Which are our top 5 best-selling products, and what's their current stock status?\",\n",
    "        'query': \"\"\"\n",
    "                    SELECT\n",
    "                        product_name,\n",
    "                        category,\n",
    "                        sales_volume,\n",
    "                        stock_quantity,\n",
    "                        reorder_level,\n",
    "                        CASE\n",
    "                            WHEN stock_quantity <= reorder_level THEN 'Needs Reorder'\n",
    "                            ELSE 'OK'\n",
    "                        END as stock_status\n",
    "                    FROM sales_table.grocery_inventory_and_sales_dataset\n",
    "                    ORDER BY sales_volume DESC\n",
    "                    LIMIT 5;\n",
    "                \"\"\"\n",
    "    },\n",
    "    {\n",
    "        'question': \"What's our inventory value by category?\",\n",
    "        'query': \"\"\"\n",
    "                    SELECT\n",
    "                        category,\n",
    "                        COUNT(*) as product_count,\n",
    "                        ROUND(SUM(stock_quantity * CAST(unit_price AS double precision))::numeric, 2) as total_inventory_value,\n",
    "                        ROUND(AVG(stock_quantity * CAST(unit_price AS double precision))::numeric, 2) as avg_category_value\n",
    "                    FROM sales_table.grocery_inventory_and_sales_dataset\n",
    "                    GROUP BY category\n",
    "                    ORDER BY total_inventory_value DESC;\n",
    "                \"\"\"\n",
    "    },\n",
    "    {\n",
    "        'question': \"Which products are critically low on stock (below reorder level) and need immediate attention?\",\n",
    "        'query': \"\"\"\n",
    "                    SELECT\n",
    "                        product_name,\n",
    "                        category,\n",
    "                        stock_quantity,\n",
    "                        reorder_level,\n",
    "                        reorder_quantity,\n",
    "                        supplier_name,\n",
    "                        last_order_date\n",
    "                    FROM sales_table.grocery_inventory_and_sales_dataset\n",
    "                    WHERE stock_quantity <= reorder_level\n",
    "                        AND status = 'Active'\n",
    "                    ORDER BY (stock_quantity - reorder_level);\n",
    "                \"\"\"\n",
    "    },\n",
    "    {\n",
    "        'question': \"Which products are expiring in the next 30 days?\",\n",
    "        'query': \"\"\"\n",
    "                    SELECT\n",
    "                        product_name,\n",
    "                        category,\n",
    "                        stock_quantity,\n",
    "                        expiration_date,\n",
    "                        warehouse_location,\n",
    "                        supplier_name\n",
    "                    FROM sales_table.grocery_inventory_and_sales_dataset\n",
    "                    WHERE expiration_date BETWEEN CURRENT_DATE AND (CURRENT_DATE + INTERVAL '30 days')\n",
    "                        AND stock_quantity > 0\n",
    "                    ORDER BY expiration_date;\n",
    "                \"\"\"\n",
    "    },\n",
    "    {\n",
    "        'question': \"What's our inventory turnover performance by category?\",\n",
    "        'query': \"\"\"\n",
    "                    SELECT\n",
    "                        category,\n",
    "                        ROUND(AVG(inventory_turnover_rate)::numeric, 2) as avg_turnover_rate,\n",
    "                        ROUND(MIN(inventory_turnover_rate)::numeric, 2) as min_turnover_rate,\n",
    "                        ROUND(MAX(inventory_turnover_rate)::numeric, 2) as max_turnover_rate,\n",
    "                        COUNT(*) as number_of_products\n",
    "                    FROM sales_table.grocery_inventory_and_sales_dataset\n",
    "                    GROUP BY category\n",
    "                    ORDER BY avg_turnover_rate DESC;\n",
    "                \"\"\"\n",
    "    },\n",
    "    {\n",
    "        'question': \"What's the status distribution of our products, and what's their total value?\",\n",
    "        'query': \"\"\"\n",
    "                    SELECT\n",
    "                        status,\n",
    "                        COUNT(*) as product_count,\n",
    "                        ROUND(SUM(stock_quantity * CAST(unit_price AS double precision))::numeric, 2) as total_inventory_value,\n",
    "                        ROUND(AVG(sales_volume)::numeric, 2) as avg_sales_volume\n",
    "                    FROM sales_table.grocery_inventory_and_sales_dataset\n",
    "                    GROUP BY status\n",
    "                    ORDER BY product_count DESC;\n",
    "                \"\"\"\n",
    "    },\n",
    "    {\n",
    "        'question': \"Which products haven't been ordered in the last 90 days but still have high stock?\",\n",
    "        'query': \"\"\"\n",
    "                    SELECT\n",
    "                        product_name,\n",
    "                        category,\n",
    "                        stock_quantity,\n",
    "                        last_order_date,\n",
    "                        sales_volume,\n",
    "                        inventory_turnover_rate\n",
    "                    FROM sales_table.grocery_inventory_and_sales_dataset\n",
    "                    WHERE last_order_date < (CURRENT_DATE - INTERVAL '90 days')\n",
    "                    AND stock_quantity > reorder_level * 2\n",
    "                    ORDER BY stock_quantity DESC;\n",
    "                \"\"\"\n",
    "    },\n",
    "    {\n",
    "        'question': \"What's our warehouse distribution of products, and how much value do we hold in each location?\",\n",
    "        'query': \"\"\"\n",
    "                    SELECT\n",
    "                        warehouse_location,\n",
    "                        COUNT(*) as number_of_products,\n",
    "                        SUM(stock_quantity) as total_items,\n",
    "                        ROUND(SUM(stock_quantity * CAST(unit_price AS double precision))::numeric, 2) as total_inventory_value,\n",
    "                        COUNT(CASE WHEN stock_quantity <= reorder_level THEN 1 END) as products_to_reorder\n",
    "                    FROM sales_table.grocery_inventory_and_sales_dataset\n",
    "                    GROUP BY warehouse_location\n",
    "                    ORDER BY total_inventory_value DESC;\n",
    "                \"\"\"\n",
    "    },\n",
    "    {\n",
    "        'question': \"Which are our most profitable product categories based on current stock value?\",\n",
    "        'query': \"\"\"\n",
    "                    WITH category_metrics AS (\n",
    "                        SELECT\n",
    "                            category,\n",
    "                            COUNT(*) as product_count,\n",
    "                            SUM(sales_volume) as total_sales,\n",
    "                            ROUND(SUM(stock_quantity * CAST(unit_price AS double precision))::numeric, 2) as current_inventory_value,\n",
    "                            ROUND(AVG(inventory_turnover_rate)::numeric, 2) as avg_turnover_rate\n",
    "                        FROM sales_table.grocery_inventory_and_sales_dataset\n",
    "                        GROUP BY category\n",
    "                    )\n",
    "                    SELECT\n",
    "                        category,\n",
    "                        product_count,\n",
    "                        total_sales,\n",
    "                        current_inventory_value,\n",
    "                        avg_turnover_rate,\n",
    "                        ROUND((total_sales * avg_turnover_rate)::numeric, 2) as estimated_annual_sales_value\n",
    "                    FROM category_metrics\n",
    "                    ORDER BY estimated_annual_sales_value DESC;\n",
    "                \"\"\"\n",
    "    }\n",
    "]"
   ],
   "id": "ad1c48d72ebaf477",
   "outputs": [],
   "execution_count": 7
  },
  {
   "metadata": {
    "ExecuteTime": {
     "end_time": "2025-03-20T17:53:42.116325Z",
     "start_time": "2025-03-20T17:53:33.808024Z"
    }
   },
   "cell_type": "code",
   "source": [
    "for sample in train_sample:\n",
    "    question = sample.get('question')\n",
    "    query = sample.get('query')\n",
    "    vn.train(question=question, sql=query)"
   ],
   "id": "dc970a1f8ae09095",
   "outputs": [],
   "execution_count": 8
  },
  {
   "metadata": {},
   "cell_type": "code",
   "outputs": [],
   "execution_count": null,
   "source": "",
   "id": "86b7326d879b6907"
  }
 ],
 "metadata": {
  "kernelspec": {
   "display_name": "Python 3",
   "language": "python",
   "name": "python3"
  },
  "language_info": {
   "codemirror_mode": {
    "name": "ipython",
    "version": 2
   },
   "file_extension": ".py",
   "mimetype": "text/x-python",
   "name": "python",
   "nbconvert_exporter": "python",
   "pygments_lexer": "ipython2",
   "version": "2.7.6"
  }
 },
 "nbformat": 4,
 "nbformat_minor": 5
}
